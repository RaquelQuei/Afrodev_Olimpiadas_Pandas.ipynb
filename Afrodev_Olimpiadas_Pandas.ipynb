{
  "nbformat": 4,
  "nbformat_minor": 0,
  "metadata": {
    "colab": {
      "name": "Afrodev_Olimpiadas_Pandas.ipynb",
      "provenance": [],
      "collapsed_sections": [],
      "mount_file_id": "1Iw63mulXhjSKxB3PYkrs4flXegxHxmJR",
      "authorship_tag": "ABX9TyNKqi6MTzEns81NNkB4k2qj",
      "include_colab_link": true
    },
    "kernelspec": {
      "name": "python3",
      "display_name": "Python 3"
    },
    "language_info": {
      "name": "python"
    }
  },
  "cells": [
    {
      "cell_type": "markdown",
      "metadata": {
        "id": "view-in-github",
        "colab_type": "text"
      },
      "source": [
        "<a href=\"https://colab.research.google.com/github/RaquelQuei/Afrodev_Olimpiadas_Pandas.ipynb/blob/main/Afrodev_Olimpiadas_Pandas.ipynb\" target=\"_parent\"><img src=\"https://colab.research.google.com/assets/colab-badge.svg\" alt=\"Open In Colab\"/></a>"
      ]
    },
    {
      "cell_type": "markdown",
      "metadata": {
        "id": "g9NHtECgU7-c"
      },
      "source": [
        "# Raquel Queiroz - Afrodev\n",
        "Base de Dados Olímpiadas de 2000 a 2012"
      ]
    },
    {
      "cell_type": "markdown",
      "metadata": {
        "id": "bWkxgtIrgR4q"
      },
      "source": [
        "1. Apresente: quantidade de linhas e colunas no arquivo, idade máxima, idade mínima e idade média.\n",
        "2. Liste todos os registros da atleta Serena Williams.\n",
        "3. Liste o nome de todos os países distintos que participaram das olimpíadas.\n",
        "4. Liste os atletas que receberam mais de 3 medalhas de ouro.\n",
        "5. Liste todos os atletas do esporte natação e do país Brasil."
      ]
    },
    {
      "cell_type": "code",
      "metadata": {
        "id": "o03cKUhc8xFy"
      },
      "source": [
        "import pandas as pd"
      ],
      "execution_count": 138,
      "outputs": []
    },
    {
      "cell_type": "code",
      "metadata": {
        "id": "QbpYZJ078zXJ"
      },
      "source": [
        "df = pd.read_csv(\"/content/drive/MyDrive/Afrodev/base_de_dados_olimpiadas.csv\")"
      ],
      "execution_count": 139,
      "outputs": []
    },
    {
      "cell_type": "markdown",
      "metadata": {
        "id": "6QD1W-9g978r"
      },
      "source": [
        "# Explorando Dados\n",
        " A princípio havia optado por substituir Nan por 0, pois pensava que neste caso não iria me atrapalhar nos calculos, no entanto, durante a busca pelo valor minimo aparecia o 0, então desisti de substituir por 0 e apliquei .min(skipna=True) para desconsiderar os Nan , neste caso apenas 3 em atleta e em idade."
      ]
    },
    {
      "cell_type": "code",
      "metadata": {
        "colab": {
          "base_uri": "https://localhost:8080/"
        },
        "id": "raTr3iwh9b_8",
        "outputId": "a0202b21-8b74-464c-b8fd-ceb868c38787"
      },
      "source": [
        "df.isnull().sum()"
      ],
      "execution_count": 140,
      "outputs": [
        {
          "output_type": "execute_result",
          "data": {
            "text/plain": [
              "atleta     3\n",
              "idade      3\n",
              "pais       0\n",
              "ano        0\n",
              "data       0\n",
              "esporte    0\n",
              "ouro       0\n",
              "prata      0\n",
              "bronze     0\n",
              "total      0\n",
              "dtype: int64"
            ]
          },
          "metadata": {},
          "execution_count": 140
        }
      ]
    },
    {
      "cell_type": "code",
      "metadata": {
        "id": "lFdHf7r8N4kR",
        "colab": {
          "base_uri": "https://localhost:8080/",
          "height": 417
        },
        "outputId": "e5bc757d-3fad-404c-dc90-dd1596b2e36e"
      },
      "source": [
        "df.sort_values(by= 'pais', ascending=True)"
      ],
      "execution_count": 141,
      "outputs": [
        {
          "output_type": "execute_result",
          "data": {
            "text/html": [
              "<div>\n",
              "<style scoped>\n",
              "    .dataframe tbody tr th:only-of-type {\n",
              "        vertical-align: middle;\n",
              "    }\n",
              "\n",
              "    .dataframe tbody tr th {\n",
              "        vertical-align: top;\n",
              "    }\n",
              "\n",
              "    .dataframe thead th {\n",
              "        text-align: right;\n",
              "    }\n",
              "</style>\n",
              "<table border=\"1\" class=\"dataframe\">\n",
              "  <thead>\n",
              "    <tr style=\"text-align: right;\">\n",
              "      <th></th>\n",
              "      <th>atleta</th>\n",
              "      <th>idade</th>\n",
              "      <th>pais</th>\n",
              "      <th>ano</th>\n",
              "      <th>data</th>\n",
              "      <th>esporte</th>\n",
              "      <th>ouro</th>\n",
              "      <th>prata</th>\n",
              "      <th>bronze</th>\n",
              "      <th>total</th>\n",
              "    </tr>\n",
              "  </thead>\n",
              "  <tbody>\n",
              "    <tr>\n",
              "      <th>1829</th>\n",
              "      <td>Rohullah Nikpai</td>\n",
              "      <td>25.0</td>\n",
              "      <td>Afghanistan</td>\n",
              "      <td>2012</td>\n",
              "      <td>12/08/2012</td>\n",
              "      <td>Taekwondo</td>\n",
              "      <td>0</td>\n",
              "      <td>0</td>\n",
              "      <td>1</td>\n",
              "      <td>1</td>\n",
              "    </tr>\n",
              "    <tr>\n",
              "      <th>1855</th>\n",
              "      <td>Rohullah Nikpai</td>\n",
              "      <td>21.0</td>\n",
              "      <td>Afghanistan</td>\n",
              "      <td>2008</td>\n",
              "      <td>24/08/2008</td>\n",
              "      <td>Taekwondo</td>\n",
              "      <td>0</td>\n",
              "      <td>0</td>\n",
              "      <td>1</td>\n",
              "      <td>1</td>\n",
              "    </tr>\n",
              "    <tr>\n",
              "      <th>1808</th>\n",
              "      <td>Sebastian Crismanich</td>\n",
              "      <td>25.0</td>\n",
              "      <td>Argentina</td>\n",
              "      <td>2012</td>\n",
              "      <td>12/08/2012</td>\n",
              "      <td>Taekwondo</td>\n",
              "      <td>1</td>\n",
              "      <td>0</td>\n",
              "      <td>0</td>\n",
              "      <td>1</td>\n",
              "    </tr>\n",
              "    <tr>\n",
              "      <th>2238</th>\n",
              "      <td>Georgina Bardach</td>\n",
              "      <td>20.0</td>\n",
              "      <td>Argentina</td>\n",
              "      <td>2004</td>\n",
              "      <td>29/08/2004</td>\n",
              "      <td>Swimming</td>\n",
              "      <td>0</td>\n",
              "      <td>0</td>\n",
              "      <td>1</td>\n",
              "      <td>1</td>\n",
              "    </tr>\n",
              "    <tr>\n",
              "      <th>1966</th>\n",
              "      <td>Patricia Tarabini</td>\n",
              "      <td>36.0</td>\n",
              "      <td>Argentina</td>\n",
              "      <td>2004</td>\n",
              "      <td>29/08/2004</td>\n",
              "      <td>Tennis</td>\n",
              "      <td>0</td>\n",
              "      <td>0</td>\n",
              "      <td>1</td>\n",
              "      <td>1</td>\n",
              "    </tr>\n",
              "    <tr>\n",
              "      <th>...</th>\n",
              "      <td>...</td>\n",
              "      <td>...</td>\n",
              "      <td>...</td>\n",
              "      <td>...</td>\n",
              "      <td>...</td>\n",
              "      <td>...</td>\n",
              "      <td>...</td>\n",
              "      <td>...</td>\n",
              "      <td>...</td>\n",
              "      <td>...</td>\n",
              "    </tr>\n",
              "    <tr>\n",
              "      <th>1842</th>\n",
              "      <td>Dalia Contreras</td>\n",
              "      <td>24.0</td>\n",
              "      <td>Venezuela</td>\n",
              "      <td>2008</td>\n",
              "      <td>24/08/2008</td>\n",
              "      <td>Taekwondo</td>\n",
              "      <td>0</td>\n",
              "      <td>0</td>\n",
              "      <td>1</td>\n",
              "      <td>1</td>\n",
              "    </tr>\n",
              "    <tr>\n",
              "      <th>998</th>\n",
              "      <td>Hoàng Anh Tu?n</td>\n",
              "      <td>23.0</td>\n",
              "      <td>Vietnam</td>\n",
              "      <td>2008</td>\n",
              "      <td>24/08/2008</td>\n",
              "      <td>Weightlifting</td>\n",
              "      <td>0</td>\n",
              "      <td>1</td>\n",
              "      <td>0</td>\n",
              "      <td>1</td>\n",
              "    </tr>\n",
              "    <tr>\n",
              "      <th>1917</th>\n",
              "      <td>Tr?n Hi?u Ngân</td>\n",
              "      <td>26.0</td>\n",
              "      <td>Vietnam</td>\n",
              "      <td>2000</td>\n",
              "      <td>01/10/2000</td>\n",
              "      <td>Taekwondo</td>\n",
              "      <td>0</td>\n",
              "      <td>1</td>\n",
              "      <td>0</td>\n",
              "      <td>1</td>\n",
              "    </tr>\n",
              "    <tr>\n",
              "      <th>16</th>\n",
              "      <td>Kirsty Coventry</td>\n",
              "      <td>24.0</td>\n",
              "      <td>Zimbabwe</td>\n",
              "      <td>2008</td>\n",
              "      <td>24/08/2008</td>\n",
              "      <td>Swimming</td>\n",
              "      <td>1</td>\n",
              "      <td>3</td>\n",
              "      <td>0</td>\n",
              "      <td>4</td>\n",
              "    </tr>\n",
              "    <tr>\n",
              "      <th>67</th>\n",
              "      <td>Kirsty Coventry</td>\n",
              "      <td>20.0</td>\n",
              "      <td>Zimbabwe</td>\n",
              "      <td>2004</td>\n",
              "      <td>29/08/2004</td>\n",
              "      <td>Swimming</td>\n",
              "      <td>1</td>\n",
              "      <td>1</td>\n",
              "      <td>1</td>\n",
              "      <td>3</td>\n",
              "    </tr>\n",
              "  </tbody>\n",
              "</table>\n",
              "<p>2398 rows × 10 columns</p>\n",
              "</div>"
            ],
            "text/plain": [
              "                    atleta  idade         pais  ...  prata bronze total\n",
              "1829       Rohullah Nikpai   25.0  Afghanistan  ...      0      1     1\n",
              "1855       Rohullah Nikpai   21.0  Afghanistan  ...      0      1     1\n",
              "1808  Sebastian Crismanich   25.0    Argentina  ...      0      0     1\n",
              "2238      Georgina Bardach   20.0    Argentina  ...      0      1     1\n",
              "1966     Patricia Tarabini   36.0    Argentina  ...      0      1     1\n",
              "...                    ...    ...          ...  ...    ...    ...   ...\n",
              "1842       Dalia Contreras   24.0    Venezuela  ...      0      1     1\n",
              "998         Hoàng Anh Tu?n   23.0      Vietnam  ...      1      0     1\n",
              "1917        Tr?n Hi?u Ngân   26.0      Vietnam  ...      1      0     1\n",
              "16         Kirsty Coventry   24.0     Zimbabwe  ...      3      0     4\n",
              "67         Kirsty Coventry   20.0     Zimbabwe  ...      1      1     3\n",
              "\n",
              "[2398 rows x 10 columns]"
            ]
          },
          "metadata": {},
          "execution_count": 141
        }
      ]
    },
    {
      "cell_type": "code",
      "metadata": {
        "colab": {
          "base_uri": "https://localhost:8080/"
        },
        "id": "DWSzd732lmkV",
        "outputId": "afe1f2f3-ab63-4ffe-ae39-a92e218e09a8"
      },
      "source": [
        "df[\"ano\"].max()"
      ],
      "execution_count": 142,
      "outputs": [
        {
          "output_type": "execute_result",
          "data": {
            "text/plain": [
              "2012"
            ]
          },
          "metadata": {},
          "execution_count": 142
        }
      ]
    },
    {
      "cell_type": "code",
      "metadata": {
        "colab": {
          "base_uri": "https://localhost:8080/"
        },
        "id": "mo6D0b88mPtv",
        "outputId": "cf4f7fde-3242-40d0-aa7b-e90b0bce6dbe"
      },
      "source": [
        "df[\"ano\"].min()"
      ],
      "execution_count": 143,
      "outputs": [
        {
          "output_type": "execute_result",
          "data": {
            "text/plain": [
              "2000"
            ]
          },
          "metadata": {},
          "execution_count": 143
        }
      ]
    },
    {
      "cell_type": "markdown",
      "metadata": {
        "id": "M9C_kEg7_ad5"
      },
      "source": [
        "#1. Quantidade de linhas e colunas no arquivo, idade máxima, idade mínima e idade média."
      ]
    },
    {
      "cell_type": "markdown",
      "metadata": {
        "id": "Q8A-c9e2_Rs5"
      },
      "source": [
        "1.1 Linhas x Colunas"
      ]
    },
    {
      "cell_type": "code",
      "metadata": {
        "colab": {
          "base_uri": "https://localhost:8080/"
        },
        "id": "NxGVtMVn_HKN",
        "outputId": "5b51c7dd-e911-4011-f33c-b675ca32098d"
      },
      "source": [
        "linhas_colunas = df.shape\n",
        "print(f\"A quantidade de linhas e colunas é: {linhas_colunas}\")"
      ],
      "execution_count": 144,
      "outputs": [
        {
          "output_type": "stream",
          "name": "stdout",
          "text": [
            "A quantidade de linhas e colunas é: (2398, 10)\n"
          ]
        }
      ]
    },
    {
      "cell_type": "markdown",
      "metadata": {
        "id": "O3T6MNbU_1uS"
      },
      "source": [
        "1.2 Idade: máxima, mínima e média."
      ]
    },
    {
      "cell_type": "code",
      "metadata": {
        "colab": {
          "base_uri": "https://localhost:8080/"
        },
        "id": "J6RIzL-UAlZr",
        "outputId": "f1247e63-49c1-4d35-f346-c45a58a08dba"
      },
      "source": [
        "df[\"idade\"].max()"
      ],
      "execution_count": 145,
      "outputs": [
        {
          "output_type": "execute_result",
          "data": {
            "text/plain": [
              "46.0"
            ]
          },
          "metadata": {},
          "execution_count": 145
        }
      ]
    },
    {
      "cell_type": "code",
      "metadata": {
        "colab": {
          "base_uri": "https://localhost:8080/"
        },
        "id": "sA288qL6AuPi",
        "outputId": "7005a57a-39f1-4f8d-d03a-71e3527c1ba0"
      },
      "source": [
        "df[\"idade\"].min(skipna=True) "
      ],
      "execution_count": 146,
      "outputs": [
        {
          "output_type": "execute_result",
          "data": {
            "text/plain": [
              "15.0"
            ]
          },
          "metadata": {},
          "execution_count": 146
        }
      ]
    },
    {
      "cell_type": "code",
      "metadata": {
        "colab": {
          "base_uri": "https://localhost:8080/"
        },
        "id": "mWTbpFoBCaEW",
        "outputId": "4e8af113-dd45-48ba-cccd-0c22f7dc5635"
      },
      "source": [
        "df[\"idade\"].mean(skipna=True)"
      ],
      "execution_count": 147,
      "outputs": [
        {
          "output_type": "execute_result",
          "data": {
            "text/plain": [
              "25.19248434237996"
            ]
          },
          "metadata": {},
          "execution_count": 147
        }
      ]
    },
    {
      "cell_type": "markdown",
      "metadata": {
        "id": "z2ikNxlSDw8a"
      },
      "source": [
        "#2. Liste todos os registros da atleta Serena Williams."
      ]
    },
    {
      "cell_type": "code",
      "metadata": {
        "id": "ee260dvVFyYp"
      },
      "source": [
        "df_serena = df.loc[df['atleta']=='Serena Williams']"
      ],
      "execution_count": 148,
      "outputs": []
    },
    {
      "cell_type": "code",
      "metadata": {
        "colab": {
          "base_uri": "https://localhost:8080/",
          "height": 142
        },
        "id": "s-ntTUkMW6ua",
        "outputId": "2b5d7677-9d37-45a6-eb21-195af6182050"
      },
      "source": [
        "df_serena"
      ],
      "execution_count": 149,
      "outputs": [
        {
          "output_type": "execute_result",
          "data": {
            "text/html": [
              "<div>\n",
              "<style scoped>\n",
              "    .dataframe tbody tr th:only-of-type {\n",
              "        vertical-align: middle;\n",
              "    }\n",
              "\n",
              "    .dataframe tbody tr th {\n",
              "        vertical-align: top;\n",
              "    }\n",
              "\n",
              "    .dataframe thead th {\n",
              "        text-align: right;\n",
              "    }\n",
              "</style>\n",
              "<table border=\"1\" class=\"dataframe\">\n",
              "  <thead>\n",
              "    <tr style=\"text-align: right;\">\n",
              "      <th></th>\n",
              "      <th>atleta</th>\n",
              "      <th>idade</th>\n",
              "      <th>pais</th>\n",
              "      <th>ano</th>\n",
              "      <th>data</th>\n",
              "      <th>esporte</th>\n",
              "      <th>ouro</th>\n",
              "      <th>prata</th>\n",
              "      <th>bronze</th>\n",
              "      <th>total</th>\n",
              "    </tr>\n",
              "  </thead>\n",
              "  <tbody>\n",
              "    <tr>\n",
              "      <th>174</th>\n",
              "      <td>Serena Williams</td>\n",
              "      <td>30.0</td>\n",
              "      <td>United States</td>\n",
              "      <td>2012</td>\n",
              "      <td>12/08/2012</td>\n",
              "      <td>Tennis</td>\n",
              "      <td>2</td>\n",
              "      <td>0</td>\n",
              "      <td>0</td>\n",
              "      <td>2</td>\n",
              "    </tr>\n",
              "    <tr>\n",
              "      <th>1947</th>\n",
              "      <td>Serena Williams</td>\n",
              "      <td>26.0</td>\n",
              "      <td>United States</td>\n",
              "      <td>2008</td>\n",
              "      <td>24/08/2008</td>\n",
              "      <td>Tennis</td>\n",
              "      <td>1</td>\n",
              "      <td>0</td>\n",
              "      <td>0</td>\n",
              "      <td>1</td>\n",
              "    </tr>\n",
              "    <tr>\n",
              "      <th>1980</th>\n",
              "      <td>Serena Williams</td>\n",
              "      <td>18.0</td>\n",
              "      <td>United States</td>\n",
              "      <td>2000</td>\n",
              "      <td>01/10/2000</td>\n",
              "      <td>Tennis</td>\n",
              "      <td>1</td>\n",
              "      <td>0</td>\n",
              "      <td>0</td>\n",
              "      <td>1</td>\n",
              "    </tr>\n",
              "  </tbody>\n",
              "</table>\n",
              "</div>"
            ],
            "text/plain": [
              "               atleta  idade           pais   ano  ... ouro prata  bronze  total\n",
              "174   Serena Williams   30.0  United States  2012  ...    2     0       0      2\n",
              "1947  Serena Williams   26.0  United States  2008  ...    1     0       0      1\n",
              "1980  Serena Williams   18.0  United States  2000  ...    1     0       0      1\n",
              "\n",
              "[3 rows x 10 columns]"
            ]
          },
          "metadata": {},
          "execution_count": 149
        }
      ]
    },
    {
      "cell_type": "markdown",
      "metadata": {
        "id": "Bi7kzgBqFjIS"
      },
      "source": [
        "# 3. Listando o nome de todos os países distintos que participaram das olimpíadas."
      ]
    },
    {
      "cell_type": "code",
      "metadata": {
        "id": "25izJICpIDgR"
      },
      "source": [
        "# Removendo países duplicados com drop_duplicates()\n",
        "df_paises = df['pais'].drop_duplicates()"
      ],
      "execution_count": 150,
      "outputs": []
    },
    {
      "cell_type": "code",
      "metadata": {
        "colab": {
          "base_uri": "https://localhost:8080/"
        },
        "id": "xe8wengINO7p",
        "outputId": "98838a5f-51c5-401d-b120-63c14bf14bf3"
      },
      "source": [
        "# Quantos países participaram\n",
        "df_paises.count()"
      ],
      "execution_count": 151,
      "outputs": [
        {
          "output_type": "execute_result",
          "data": {
            "text/plain": [
              "82"
            ]
          },
          "metadata": {},
          "execution_count": 151
        }
      ]
    },
    {
      "cell_type": "code",
      "metadata": {
        "colab": {
          "base_uri": "https://localhost:8080/"
        },
        "id": "fIIl_yIZNjXx",
        "outputId": "b77095d9-57c5-46f2-cc61-55a84459a248"
      },
      "source": [
        "# Mostrando todos os países\n",
        "df_paises.head(82)"
      ],
      "execution_count": 152,
      "outputs": [
        {
          "output_type": "execute_result",
          "data": {
            "text/plain": [
              "0            United States\n",
              "4                   Russia\n",
              "5                Australia\n",
              "12                  Canada\n",
              "14                  Norway\n",
              "               ...        \n",
              "1808             Argentina\n",
              "1829           Afghanistan\n",
              "1830                 Gabon\n",
              "1852    Dominican Republic\n",
              "1955               Belgium\n",
              "Name: pais, Length: 82, dtype: object"
            ]
          },
          "metadata": {},
          "execution_count": 152
        }
      ]
    },
    {
      "cell_type": "markdown",
      "metadata": {
        "id": "r-aUWhEqOUNC"
      },
      "source": [
        "# 4. Listando os atletas que receberam mais de 3 medalhas de ouro."
      ]
    },
    {
      "cell_type": "code",
      "metadata": {
        "colab": {
          "base_uri": "https://localhost:8080/",
          "height": 203
        },
        "id": "Etyh72IcPFPo",
        "outputId": "4bc0bd90-fb7a-41ee-cee4-12e5c7e3fa96"
      },
      "source": [
        "# Esta visualização é específica para o ano em que receberam mais que 3.\n",
        "df.loc[df['ouro'] > 3]"
      ],
      "execution_count": 153,
      "outputs": [
        {
          "output_type": "execute_result",
          "data": {
            "text/html": [
              "<div>\n",
              "<style scoped>\n",
              "    .dataframe tbody tr th:only-of-type {\n",
              "        vertical-align: middle;\n",
              "    }\n",
              "\n",
              "    .dataframe tbody tr th {\n",
              "        vertical-align: top;\n",
              "    }\n",
              "\n",
              "    .dataframe thead th {\n",
              "        text-align: right;\n",
              "    }\n",
              "</style>\n",
              "<table border=\"1\" class=\"dataframe\">\n",
              "  <thead>\n",
              "    <tr style=\"text-align: right;\">\n",
              "      <th></th>\n",
              "      <th>atleta</th>\n",
              "      <th>idade</th>\n",
              "      <th>pais</th>\n",
              "      <th>ano</th>\n",
              "      <th>data</th>\n",
              "      <th>esporte</th>\n",
              "      <th>ouro</th>\n",
              "      <th>prata</th>\n",
              "      <th>bronze</th>\n",
              "      <th>total</th>\n",
              "    </tr>\n",
              "  </thead>\n",
              "  <tbody>\n",
              "    <tr>\n",
              "      <th>0</th>\n",
              "      <td>Michael Phelps</td>\n",
              "      <td>23.0</td>\n",
              "      <td>United States</td>\n",
              "      <td>2008</td>\n",
              "      <td>24/08/2008</td>\n",
              "      <td>Swimming</td>\n",
              "      <td>8</td>\n",
              "      <td>0</td>\n",
              "      <td>0</td>\n",
              "      <td>8</td>\n",
              "    </tr>\n",
              "    <tr>\n",
              "      <th>1</th>\n",
              "      <td>Michael Phelps</td>\n",
              "      <td>19.0</td>\n",
              "      <td>United States</td>\n",
              "      <td>2004</td>\n",
              "      <td>29/08/2004</td>\n",
              "      <td>Swimming</td>\n",
              "      <td>6</td>\n",
              "      <td>0</td>\n",
              "      <td>2</td>\n",
              "      <td>8</td>\n",
              "    </tr>\n",
              "    <tr>\n",
              "      <th>2</th>\n",
              "      <td>Michael Phelps</td>\n",
              "      <td>27.0</td>\n",
              "      <td>United States</td>\n",
              "      <td>2012</td>\n",
              "      <td>12/08/2012</td>\n",
              "      <td>Swimming</td>\n",
              "      <td>4</td>\n",
              "      <td>2</td>\n",
              "      <td>0</td>\n",
              "      <td>6</td>\n",
              "    </tr>\n",
              "    <tr>\n",
              "      <th>6</th>\n",
              "      <td>Missy Franklin</td>\n",
              "      <td>17.0</td>\n",
              "      <td>United States</td>\n",
              "      <td>2012</td>\n",
              "      <td>12/08/2012</td>\n",
              "      <td>Swimming</td>\n",
              "      <td>4</td>\n",
              "      <td>0</td>\n",
              "      <td>1</td>\n",
              "      <td>5</td>\n",
              "    </tr>\n",
              "    <tr>\n",
              "      <th>34</th>\n",
              "      <td>Ole Einar Bjørndalen</td>\n",
              "      <td>28.0</td>\n",
              "      <td>Norway</td>\n",
              "      <td>2002</td>\n",
              "      <td>24/02/2002</td>\n",
              "      <td>Biathlon</td>\n",
              "      <td>4</td>\n",
              "      <td>0</td>\n",
              "      <td>0</td>\n",
              "      <td>4</td>\n",
              "    </tr>\n",
              "  </tbody>\n",
              "</table>\n",
              "</div>"
            ],
            "text/plain": [
              "                  atleta  idade           pais  ...  prata bronze total\n",
              "0         Michael Phelps   23.0  United States  ...      0      0     8\n",
              "1         Michael Phelps   19.0  United States  ...      0      2     8\n",
              "2         Michael Phelps   27.0  United States  ...      2      0     6\n",
              "6         Missy Franklin   17.0  United States  ...      0      1     5\n",
              "34  Ole Einar Bjørndalen   28.0         Norway  ...      0      0     4\n",
              "\n",
              "[5 rows x 10 columns]"
            ]
          },
          "metadata": {},
          "execution_count": 153
        }
      ]
    },
    {
      "cell_type": "markdown",
      "metadata": {
        "id": "5M5wKCs9SYJj"
      },
      "source": [
        "# 5. Listando todos os atletas do esporte natação e do país Brasil."
      ]
    },
    {
      "cell_type": "code",
      "metadata": {
        "id": "cDnS8JrjSaDb"
      },
      "source": [
        "# Criando um Data Frame para o Brazil contendo todos os atletas\n",
        "df_brazil = df.loc[df['pais'] == 'Brazil']"
      ],
      "execution_count": 154,
      "outputs": []
    },
    {
      "cell_type": "code",
      "metadata": {
        "id": "be7Pdw1eUAZL"
      },
      "source": [
        "# Criando um Data Frame para o Brazil contendo apenas os atletas de Swimming\n",
        "df_brazil_Swimming = df_brazil.loc[df['esporte'] == 'Swimming']"
      ],
      "execution_count": 155,
      "outputs": []
    },
    {
      "cell_type": "code",
      "metadata": {
        "colab": {
          "base_uri": "https://localhost:8080/",
          "height": 265
        },
        "id": "0tVflvLxUL-B",
        "outputId": "520a2232-f7ae-40cd-c155-e04269d3d641"
      },
      "source": [
        "# Visualizando o df específico do Brazil em Swimming\n",
        "df_brazil_Swimming"
      ],
      "execution_count": 156,
      "outputs": [
        {
          "output_type": "execute_result",
          "data": {
            "text/html": [
              "<div>\n",
              "<style scoped>\n",
              "    .dataframe tbody tr th:only-of-type {\n",
              "        vertical-align: middle;\n",
              "    }\n",
              "\n",
              "    .dataframe tbody tr th {\n",
              "        vertical-align: top;\n",
              "    }\n",
              "\n",
              "    .dataframe thead th {\n",
              "        text-align: right;\n",
              "    }\n",
              "</style>\n",
              "<table border=\"1\" class=\"dataframe\">\n",
              "  <thead>\n",
              "    <tr style=\"text-align: right;\">\n",
              "      <th></th>\n",
              "      <th>atleta</th>\n",
              "      <th>idade</th>\n",
              "      <th>pais</th>\n",
              "      <th>ano</th>\n",
              "      <th>data</th>\n",
              "      <th>esporte</th>\n",
              "      <th>ouro</th>\n",
              "      <th>prata</th>\n",
              "      <th>bronze</th>\n",
              "      <th>total</th>\n",
              "    </tr>\n",
              "  </thead>\n",
              "  <tbody>\n",
              "    <tr>\n",
              "      <th>222</th>\n",
              "      <td>César Cielo Filho</td>\n",
              "      <td>21.0</td>\n",
              "      <td>Brazil</td>\n",
              "      <td>2008</td>\n",
              "      <td>24/08/2008</td>\n",
              "      <td>Swimming</td>\n",
              "      <td>1</td>\n",
              "      <td>0</td>\n",
              "      <td>1</td>\n",
              "      <td>2</td>\n",
              "    </tr>\n",
              "    <tr>\n",
              "      <th>2080</th>\n",
              "      <td>César Cielo Filho</td>\n",
              "      <td>25.0</td>\n",
              "      <td>Brazil</td>\n",
              "      <td>2012</td>\n",
              "      <td>12/08/2012</td>\n",
              "      <td>Swimming</td>\n",
              "      <td>0</td>\n",
              "      <td>0</td>\n",
              "      <td>1</td>\n",
              "      <td>1</td>\n",
              "    </tr>\n",
              "    <tr>\n",
              "      <th>2138</th>\n",
              "      <td>Thiago Pereira</td>\n",
              "      <td>26.0</td>\n",
              "      <td>Brazil</td>\n",
              "      <td>2012</td>\n",
              "      <td>12/08/2012</td>\n",
              "      <td>Swimming</td>\n",
              "      <td>0</td>\n",
              "      <td>1</td>\n",
              "      <td>0</td>\n",
              "      <td>1</td>\n",
              "    </tr>\n",
              "    <tr>\n",
              "      <th>2322</th>\n",
              "      <td>Gustavo Borges</td>\n",
              "      <td>27.0</td>\n",
              "      <td>Brazil</td>\n",
              "      <td>2000</td>\n",
              "      <td>01/10/2000</td>\n",
              "      <td>Swimming</td>\n",
              "      <td>0</td>\n",
              "      <td>0</td>\n",
              "      <td>1</td>\n",
              "      <td>1</td>\n",
              "    </tr>\n",
              "    <tr>\n",
              "      <th>2341</th>\n",
              "      <td>Carlos Jayme</td>\n",
              "      <td>20.0</td>\n",
              "      <td>Brazil</td>\n",
              "      <td>2000</td>\n",
              "      <td>01/10/2000</td>\n",
              "      <td>Swimming</td>\n",
              "      <td>0</td>\n",
              "      <td>0</td>\n",
              "      <td>1</td>\n",
              "      <td>1</td>\n",
              "    </tr>\n",
              "    <tr>\n",
              "      <th>2370</th>\n",
              "      <td>Xuxa Scherer</td>\n",
              "      <td>25.0</td>\n",
              "      <td>Brazil</td>\n",
              "      <td>2000</td>\n",
              "      <td>01/10/2000</td>\n",
              "      <td>Swimming</td>\n",
              "      <td>0</td>\n",
              "      <td>0</td>\n",
              "      <td>1</td>\n",
              "      <td>1</td>\n",
              "    </tr>\n",
              "    <tr>\n",
              "      <th>2371</th>\n",
              "      <td>Edvaldo Silva Filho</td>\n",
              "      <td>22.0</td>\n",
              "      <td>Brazil</td>\n",
              "      <td>2000</td>\n",
              "      <td>01/10/2000</td>\n",
              "      <td>Swimming</td>\n",
              "      <td>0</td>\n",
              "      <td>0</td>\n",
              "      <td>1</td>\n",
              "      <td>1</td>\n",
              "    </tr>\n",
              "  </tbody>\n",
              "</table>\n",
              "</div>"
            ],
            "text/plain": [
              "                   atleta  idade    pais   ano  ... ouro prata  bronze  total\n",
              "222     César Cielo Filho   21.0  Brazil  2008  ...    1     0       1      2\n",
              "2080    César Cielo Filho   25.0  Brazil  2012  ...    0     0       1      1\n",
              "2138       Thiago Pereira   26.0  Brazil  2012  ...    0     1       0      1\n",
              "2322       Gustavo Borges   27.0  Brazil  2000  ...    0     0       1      1\n",
              "2341         Carlos Jayme   20.0  Brazil  2000  ...    0     0       1      1\n",
              "2370         Xuxa Scherer   25.0  Brazil  2000  ...    0     0       1      1\n",
              "2371  Edvaldo Silva Filho   22.0  Brazil  2000  ...    0     0       1      1\n",
              "\n",
              "[7 rows x 10 columns]"
            ]
          },
          "metadata": {},
          "execution_count": 156
        }
      ]
    },
    {
      "cell_type": "code",
      "metadata": {
        "colab": {
          "base_uri": "https://localhost:8080/",
          "height": 417
        },
        "id": "XiWJoNxJTvl4",
        "outputId": "b1fd38de-0728-4a5f-da50-2a9754950640"
      },
      "source": [
        "# Visualizando o df geral do Brazil\n",
        "df_brazil"
      ],
      "execution_count": 157,
      "outputs": [
        {
          "output_type": "execute_result",
          "data": {
            "text/html": [
              "<div>\n",
              "<style scoped>\n",
              "    .dataframe tbody tr th:only-of-type {\n",
              "        vertical-align: middle;\n",
              "    }\n",
              "\n",
              "    .dataframe tbody tr th {\n",
              "        vertical-align: top;\n",
              "    }\n",
              "\n",
              "    .dataframe thead th {\n",
              "        text-align: right;\n",
              "    }\n",
              "</style>\n",
              "<table border=\"1\" class=\"dataframe\">\n",
              "  <thead>\n",
              "    <tr style=\"text-align: right;\">\n",
              "      <th></th>\n",
              "      <th>atleta</th>\n",
              "      <th>idade</th>\n",
              "      <th>pais</th>\n",
              "      <th>ano</th>\n",
              "      <th>data</th>\n",
              "      <th>esporte</th>\n",
              "      <th>ouro</th>\n",
              "      <th>prata</th>\n",
              "      <th>bronze</th>\n",
              "      <th>total</th>\n",
              "    </tr>\n",
              "  </thead>\n",
              "  <tbody>\n",
              "    <tr>\n",
              "      <th>222</th>\n",
              "      <td>César Cielo Filho</td>\n",
              "      <td>21.0</td>\n",
              "      <td>Brazil</td>\n",
              "      <td>2008</td>\n",
              "      <td>24/08/2008</td>\n",
              "      <td>Swimming</td>\n",
              "      <td>1</td>\n",
              "      <td>0</td>\n",
              "      <td>1</td>\n",
              "      <td>2</td>\n",
              "    </tr>\n",
              "    <tr>\n",
              "      <th>1428</th>\n",
              "      <td>NaN</td>\n",
              "      <td>NaN</td>\n",
              "      <td>Brazil</td>\n",
              "      <td>2012</td>\n",
              "      <td>12/08/2012</td>\n",
              "      <td>Volleyball</td>\n",
              "      <td>0</td>\n",
              "      <td>1</td>\n",
              "      <td>0</td>\n",
              "      <td>1</td>\n",
              "    </tr>\n",
              "    <tr>\n",
              "      <th>1429</th>\n",
              "      <td>NaN</td>\n",
              "      <td>NaN</td>\n",
              "      <td>Brazil</td>\n",
              "      <td>2012</td>\n",
              "      <td>12/08/2012</td>\n",
              "      <td>Volleyball</td>\n",
              "      <td>0</td>\n",
              "      <td>1</td>\n",
              "      <td>0</td>\n",
              "      <td>1</td>\n",
              "    </tr>\n",
              "    <tr>\n",
              "      <th>1430</th>\n",
              "      <td>NaN</td>\n",
              "      <td>NaN</td>\n",
              "      <td>Brazil</td>\n",
              "      <td>2012</td>\n",
              "      <td>12/08/2012</td>\n",
              "      <td>Volleyball</td>\n",
              "      <td>0</td>\n",
              "      <td>1</td>\n",
              "      <td>0</td>\n",
              "      <td>1</td>\n",
              "    </tr>\n",
              "    <tr>\n",
              "      <th>1432</th>\n",
              "      <td>Thiago Alves</td>\n",
              "      <td>26.0</td>\n",
              "      <td>Brazil</td>\n",
              "      <td>2012</td>\n",
              "      <td>12/08/2012</td>\n",
              "      <td>Volleyball</td>\n",
              "      <td>0</td>\n",
              "      <td>1</td>\n",
              "      <td>0</td>\n",
              "      <td>1</td>\n",
              "    </tr>\n",
              "    <tr>\n",
              "      <th>...</th>\n",
              "      <td>...</td>\n",
              "      <td>...</td>\n",
              "      <td>...</td>\n",
              "      <td>...</td>\n",
              "      <td>...</td>\n",
              "      <td>...</td>\n",
              "      <td>...</td>\n",
              "      <td>...</td>\n",
              "      <td>...</td>\n",
              "      <td>...</td>\n",
              "    </tr>\n",
              "    <tr>\n",
              "      <th>2138</th>\n",
              "      <td>Thiago Pereira</td>\n",
              "      <td>26.0</td>\n",
              "      <td>Brazil</td>\n",
              "      <td>2012</td>\n",
              "      <td>12/08/2012</td>\n",
              "      <td>Swimming</td>\n",
              "      <td>0</td>\n",
              "      <td>1</td>\n",
              "      <td>0</td>\n",
              "      <td>1</td>\n",
              "    </tr>\n",
              "    <tr>\n",
              "      <th>2322</th>\n",
              "      <td>Gustavo Borges</td>\n",
              "      <td>27.0</td>\n",
              "      <td>Brazil</td>\n",
              "      <td>2000</td>\n",
              "      <td>01/10/2000</td>\n",
              "      <td>Swimming</td>\n",
              "      <td>0</td>\n",
              "      <td>0</td>\n",
              "      <td>1</td>\n",
              "      <td>1</td>\n",
              "    </tr>\n",
              "    <tr>\n",
              "      <th>2341</th>\n",
              "      <td>Carlos Jayme</td>\n",
              "      <td>20.0</td>\n",
              "      <td>Brazil</td>\n",
              "      <td>2000</td>\n",
              "      <td>01/10/2000</td>\n",
              "      <td>Swimming</td>\n",
              "      <td>0</td>\n",
              "      <td>0</td>\n",
              "      <td>1</td>\n",
              "      <td>1</td>\n",
              "    </tr>\n",
              "    <tr>\n",
              "      <th>2370</th>\n",
              "      <td>Xuxa Scherer</td>\n",
              "      <td>25.0</td>\n",
              "      <td>Brazil</td>\n",
              "      <td>2000</td>\n",
              "      <td>01/10/2000</td>\n",
              "      <td>Swimming</td>\n",
              "      <td>0</td>\n",
              "      <td>0</td>\n",
              "      <td>1</td>\n",
              "      <td>1</td>\n",
              "    </tr>\n",
              "    <tr>\n",
              "      <th>2371</th>\n",
              "      <td>Edvaldo Silva Filho</td>\n",
              "      <td>22.0</td>\n",
              "      <td>Brazil</td>\n",
              "      <td>2000</td>\n",
              "      <td>01/10/2000</td>\n",
              "      <td>Swimming</td>\n",
              "      <td>0</td>\n",
              "      <td>0</td>\n",
              "      <td>1</td>\n",
              "      <td>1</td>\n",
              "    </tr>\n",
              "  </tbody>\n",
              "</table>\n",
              "<p>80 rows × 10 columns</p>\n",
              "</div>"
            ],
            "text/plain": [
              "                   atleta  idade    pais   ano  ... ouro prata  bronze  total\n",
              "222     César Cielo Filho   21.0  Brazil  2008  ...    1     0       1      2\n",
              "1428                  NaN    NaN  Brazil  2012  ...    0     1       0      1\n",
              "1429                  NaN    NaN  Brazil  2012  ...    0     1       0      1\n",
              "1430                  NaN    NaN  Brazil  2012  ...    0     1       0      1\n",
              "1432         Thiago Alves   26.0  Brazil  2012  ...    0     1       0      1\n",
              "...                   ...    ...     ...   ...  ...  ...   ...     ...    ...\n",
              "2138       Thiago Pereira   26.0  Brazil  2012  ...    0     1       0      1\n",
              "2322       Gustavo Borges   27.0  Brazil  2000  ...    0     0       1      1\n",
              "2341         Carlos Jayme   20.0  Brazil  2000  ...    0     0       1      1\n",
              "2370         Xuxa Scherer   25.0  Brazil  2000  ...    0     0       1      1\n",
              "2371  Edvaldo Silva Filho   22.0  Brazil  2000  ...    0     0       1      1\n",
              "\n",
              "[80 rows x 10 columns]"
            ]
          },
          "metadata": {},
          "execution_count": 157
        }
      ]
    },
    {
      "cell_type": "markdown",
      "metadata": {
        "id": "qnxpfOe43g5V"
      },
      "source": [
        "#Curiosidades"
      ]
    },
    {
      "cell_type": "code",
      "metadata": {
        "colab": {
          "base_uri": "https://localhost:8080/",
          "height": 554
        },
        "id": "pgis-YZpUyms",
        "outputId": "151d3b82-8a24-4f32-e672-7a6e525ada73"
      },
      "source": [
        "# Idade no geral\n",
        "age = df['idade'].value_counts()\n",
        "display(age)"
      ],
      "execution_count": 158,
      "outputs": [
        {
          "output_type": "display_data",
          "data": {
            "text/plain": [
              "25.0    226\n",
              "24.0    223\n",
              "26.0    211\n",
              "22.0    196\n",
              "23.0    193\n",
              "27.0    176\n",
              "21.0    172\n",
              "28.0    159\n",
              "29.0    130\n",
              "20.0    122\n",
              "30.0    100\n",
              "19.0     85\n",
              "31.0     76\n",
              "32.0     70\n",
              "18.0     52\n",
              "33.0     38\n",
              "34.0     36\n",
              "17.0     36\n",
              "16.0     25\n",
              "36.0     18\n",
              "35.0     14\n",
              "38.0      9\n",
              "15.0      7\n",
              "39.0      6\n",
              "37.0      4\n",
              "40.0      3\n",
              "42.0      2\n",
              "41.0      2\n",
              "46.0      2\n",
              "45.0      1\n",
              "44.0      1\n",
              "Name: idade, dtype: int64"
            ]
          },
          "metadata": {}
        }
      ]
    },
    {
      "cell_type": "code",
      "metadata": {
        "colab": {
          "base_uri": "https://localhost:8080/"
        },
        "id": "tu8iYvk3N_Bo",
        "outputId": "cf96cb88-0b28-436c-97b6-ec693d0a1bc1"
      },
      "source": [
        "#Quantas vezes cada esporte aparece com relação ao Brazil.\n",
        "df_brazil['esporte'].value_counts()"
      ],
      "execution_count": 159,
      "outputs": [
        {
          "output_type": "execute_result",
          "data": {
            "text/plain": [
              "Volleyball    72\n",
              "Swimming       7\n",
              "Taekwondo      1\n",
              "Name: esporte, dtype: int64"
            ]
          },
          "metadata": {},
          "execution_count": 159
        }
      ]
    },
    {
      "cell_type": "code",
      "metadata": {
        "colab": {
          "base_uri": "https://localhost:8080/"
        },
        "id": "tnXjyYMh3WLh",
        "outputId": "95db6937-49e9-4b48-c4fc-24760afcec36"
      },
      "source": [
        "#Quantas vezes cada esporte aparece no Geral.\n",
        "df['esporte'].value_counts()"
      ],
      "execution_count": 160,
      "outputs": [
        {
          "output_type": "execute_result",
          "data": {
            "text/plain": [
              "Swimming                     487\n",
              "Waterpolo                    306\n",
              "Volleyball                   281\n",
              "Wrestling                    245\n",
              "Weightlifting                180\n",
              "Taekwondo                    112\n",
              "Synchronized Swimming        109\n",
              "Tennis                        71\n",
              "Table Tennis                  67\n",
              "Gymnastics                    62\n",
              "Athletics                     58\n",
              "Cycling                       39\n",
              "Canoeing                      38\n",
              "Cross pais Skiing             35\n",
              "Biathlon                      33\n",
              "Short-Track Speed Skating     31\n",
              "Diving                        29\n",
              "Speed Skating                 28\n",
              "Fencing                       26\n",
              "Equestrian                    25\n",
              "Triathlon                     24\n",
              "Trampoline                    24\n",
              "Alpine Skiing                 23\n",
              "Ski Jumping                   12\n",
              "Archery                       12\n",
              "Shooting                      11\n",
              "Nordic Combined               10\n",
              "Rowing                         9\n",
              "Bobsleigh                      6\n",
              "Badminton                      5\n",
              "Name: esporte, dtype: int64"
            ]
          },
          "metadata": {},
          "execution_count": 160
        }
      ]
    },
    {
      "cell_type": "code",
      "metadata": {
        "colab": {
          "base_uri": "https://localhost:8080/",
          "height": 417
        },
        "id": "kQQ2LMnBghXY",
        "outputId": "28aedf65-0b81-4448-e004-819414ed0e01"
      },
      "source": [
        "medalhas_brazil = df_brazil[['esporte','ouro', 'prata', 'bronze']]\n",
        "display(medalhas_brazil)"
      ],
      "execution_count": 161,
      "outputs": [
        {
          "output_type": "display_data",
          "data": {
            "text/html": [
              "<div>\n",
              "<style scoped>\n",
              "    .dataframe tbody tr th:only-of-type {\n",
              "        vertical-align: middle;\n",
              "    }\n",
              "\n",
              "    .dataframe tbody tr th {\n",
              "        vertical-align: top;\n",
              "    }\n",
              "\n",
              "    .dataframe thead th {\n",
              "        text-align: right;\n",
              "    }\n",
              "</style>\n",
              "<table border=\"1\" class=\"dataframe\">\n",
              "  <thead>\n",
              "    <tr style=\"text-align: right;\">\n",
              "      <th></th>\n",
              "      <th>esporte</th>\n",
              "      <th>ouro</th>\n",
              "      <th>prata</th>\n",
              "      <th>bronze</th>\n",
              "    </tr>\n",
              "  </thead>\n",
              "  <tbody>\n",
              "    <tr>\n",
              "      <th>222</th>\n",
              "      <td>Swimming</td>\n",
              "      <td>1</td>\n",
              "      <td>0</td>\n",
              "      <td>1</td>\n",
              "    </tr>\n",
              "    <tr>\n",
              "      <th>1428</th>\n",
              "      <td>Volleyball</td>\n",
              "      <td>0</td>\n",
              "      <td>1</td>\n",
              "      <td>0</td>\n",
              "    </tr>\n",
              "    <tr>\n",
              "      <th>1429</th>\n",
              "      <td>Volleyball</td>\n",
              "      <td>0</td>\n",
              "      <td>1</td>\n",
              "      <td>0</td>\n",
              "    </tr>\n",
              "    <tr>\n",
              "      <th>1430</th>\n",
              "      <td>Volleyball</td>\n",
              "      <td>0</td>\n",
              "      <td>1</td>\n",
              "      <td>0</td>\n",
              "    </tr>\n",
              "    <tr>\n",
              "      <th>1432</th>\n",
              "      <td>Volleyball</td>\n",
              "      <td>0</td>\n",
              "      <td>1</td>\n",
              "      <td>0</td>\n",
              "    </tr>\n",
              "    <tr>\n",
              "      <th>...</th>\n",
              "      <td>...</td>\n",
              "      <td>...</td>\n",
              "      <td>...</td>\n",
              "      <td>...</td>\n",
              "    </tr>\n",
              "    <tr>\n",
              "      <th>2138</th>\n",
              "      <td>Swimming</td>\n",
              "      <td>0</td>\n",
              "      <td>1</td>\n",
              "      <td>0</td>\n",
              "    </tr>\n",
              "    <tr>\n",
              "      <th>2322</th>\n",
              "      <td>Swimming</td>\n",
              "      <td>0</td>\n",
              "      <td>0</td>\n",
              "      <td>1</td>\n",
              "    </tr>\n",
              "    <tr>\n",
              "      <th>2341</th>\n",
              "      <td>Swimming</td>\n",
              "      <td>0</td>\n",
              "      <td>0</td>\n",
              "      <td>1</td>\n",
              "    </tr>\n",
              "    <tr>\n",
              "      <th>2370</th>\n",
              "      <td>Swimming</td>\n",
              "      <td>0</td>\n",
              "      <td>0</td>\n",
              "      <td>1</td>\n",
              "    </tr>\n",
              "    <tr>\n",
              "      <th>2371</th>\n",
              "      <td>Swimming</td>\n",
              "      <td>0</td>\n",
              "      <td>0</td>\n",
              "      <td>1</td>\n",
              "    </tr>\n",
              "  </tbody>\n",
              "</table>\n",
              "<p>80 rows × 4 columns</p>\n",
              "</div>"
            ],
            "text/plain": [
              "         esporte  ouro  prata  bronze\n",
              "222     Swimming     1      0       1\n",
              "1428  Volleyball     0      1       0\n",
              "1429  Volleyball     0      1       0\n",
              "1430  Volleyball     0      1       0\n",
              "1432  Volleyball     0      1       0\n",
              "...          ...   ...    ...     ...\n",
              "2138    Swimming     0      1       0\n",
              "2322    Swimming     0      0       1\n",
              "2341    Swimming     0      0       1\n",
              "2370    Swimming     0      0       1\n",
              "2371    Swimming     0      0       1\n",
              "\n",
              "[80 rows x 4 columns]"
            ]
          },
          "metadata": {}
        }
      ]
    },
    {
      "cell_type": "markdown",
      "metadata": {
        "id": "aHkjKIcG2zLg"
      },
      "source": [
        "Visualizando Medalhas Brasileiras por esporte."
      ]
    },
    {
      "cell_type": "code",
      "metadata": {
        "colab": {
          "base_uri": "https://localhost:8080/"
        },
        "id": "vzfMRs72mxro",
        "outputId": "18de3c05-edd9-4532-8b5f-dad679f5162c"
      },
      "source": [
        "medalhas_brazil.sum()"
      ],
      "execution_count": 162,
      "outputs": [
        {
          "output_type": "execute_result",
          "data": {
            "text/plain": [
              "esporte    SwimmingVolleyballVolleyballVolleyballVolleyba...\n",
              "ouro                                                      37\n",
              "prata                                                     25\n",
              "bronze                                                    19\n",
              "dtype: object"
            ]
          },
          "metadata": {},
          "execution_count": 162
        }
      ]
    },
    {
      "cell_type": "code",
      "metadata": {
        "colab": {
          "base_uri": "https://localhost:8080/",
          "height": 277
        },
        "id": "_jAbAR3yvWVO",
        "outputId": "37d7439a-8c3c-4606-c7ca-ea9ef1b8abeb"
      },
      "source": [
        "medalhas_brazil.groupby(\"esporte\")[\"ouro\"].sum().sort_values(ascending=True).plot.barh(title= \"Medalhas de Ouro\");"
      ],
      "execution_count": 163,
      "outputs": [
        {
          "output_type": "display_data",
          "data": {
            "image/png": "[encoded data removed]",
            "text/plain": [
              "<Figure size 432x288 with 1 Axes>"
            ]
          },
          "metadata": {}
        }
      ]
    },
    {
      "cell_type": "code",
      "metadata": {
        "colab": {
          "base_uri": "https://localhost:8080/",
          "height": 277
        },
        "id": "H7RDQXzHwVTM",
        "outputId": "c84632bd-9adc-423c-f806-ca814bd802f6"
      },
      "source": [
        "medalhas_brazil.groupby(\"esporte\")[\"prata\"].sum().sort_values(ascending=True).plot.barh(title= \"Medalhas de Prata\");"
      ],
      "execution_count": 164,
      "outputs": [
        {
          "output_type": "display_data",
          "data": {
            "image/png": "[encoded data removed]",
            "text/plain": [
              "<Figure size 432x288 with 1 Axes>"
            ]
          },
          "metadata": {}
        }
      ]
    },
    {
      "cell_type": "code",
      "metadata": {
        "colab": {
          "base_uri": "https://localhost:8080/",
          "height": 277
        },
        "id": "Q6MxejY-waCb",
        "outputId": "d851e8c2-a236-4bf7-9df7-38a545e7c7b1"
      },
      "source": [
        "medalhas_brazil.groupby(\"esporte\")[\"bronze\"].sum().sort_values(ascending=True).plot.barh(title= \"Medalhas de Bronze\");"
      ],
      "execution_count": 165,
      "outputs": [
        {
          "output_type": "display_data",
          "data": {
            "image/png": "[encoded data removed]",
            "text/plain": [
              "<Figure size 432x288 with 1 Axes>"
            ]
          },
          "metadata": {}
        }
      ]
    }
  ]
}